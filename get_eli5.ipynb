{
 "cells": [
  {
   "cell_type": "code",
   "execution_count": 1,
   "id": "b8f63d14",
   "metadata": {},
   "outputs": [
    {
     "name": "stderr",
     "output_type": "stream",
     "text": [
      "/work/10110/raghavaurora/ls6/miniconda3/envs/llm/lib/python3.10/site-packages/tqdm/auto.py:21: TqdmWarning: IProgress not found. Please update jupyter and ipywidgets. See https://ipywidgets.readthedocs.io/en/stable/user_install.html\n",
      "  from .autonotebook import tqdm as notebook_tqdm\n"
     ]
    }
   ],
   "source": [
    "from datasets import load_dataset\n",
    "import random\n",
    "seed=42\n",
    "eli5_dataset = load_dataset(\"sentence-transformers/eli5\")\n",
    "all_data = eli5_dataset[\"train\"]\n",
    "train_size = len(all_data) - int(6e3) - int(2e5)\n",
    "val_size = int(1e3)\n",
    "test_size = int(5e3)\n",
    "all_indices = list(range(len(all_data)))\n",
    "random.seed(seed)\n",
    "random.shuffle(all_indices)\n",
    "train_indices = all_indices[:train_size]\n",
    "val_indices = all_indices[train_size:train_size+val_size]\n",
    "test_indices = all_indices[train_size+val_size:train_size+val_size+test_size]\n",
    "train_data = [all_data[i] for i in train_indices]\n",
    "val_data = [all_data[i] for i in val_indices]\n",
    "test_data = [all_data[i] for i in test_indices]"
   ]
  },
  {
   "cell_type": "code",
   "execution_count": 4,
   "id": "f672e801",
   "metadata": {},
   "outputs": [],
   "source": [
    "import os\n",
    "import json\n",
    "train_json_path = os.path.join('data', \"eli5_train_119k.json\")\n",
    "val_json_path = os.path.join('data', \"eli5_val_1k.json\")\n",
    "test_json_path = os.path.join('data', \"eli5_test_5k.json\")\n",
    "\n",
    "with open(train_json_path, 'w') as f:\n",
    "    json.dump([{\"question\": item[\"question\"], \"answer\": item[\"answer\"], \"steps\": []} \n",
    "            for item in train_data], f)\n",
    "\n",
    "with open(val_json_path, 'w') as f:\n",
    "    json.dump([{\"question\": item[\"question\"], \"answer\": item[\"answer\"], \"steps\": []} \n",
    "            for item in val_data], f)\n",
    "    \n",
    "with open(test_json_path, 'w') as f:\n",
    "    json.dump([{\"question\": item[\"question\"], \"answer\": item[\"answer\"], \"steps\": []}\n",
    "            for item in test_data], f)\n"
   ]
  },
  {
   "cell_type": "code",
   "execution_count": 2,
   "id": "0d8d16d5",
   "metadata": {},
   "outputs": [
    {
     "data": {
      "text/plain": [
       "1000"
      ]
     },
     "execution_count": 2,
     "metadata": {},
     "output_type": "execute_result"
    }
   ],
   "source": [
    "val_size"
   ]
  },
  {
   "cell_type": "code",
   "execution_count": 3,
   "id": "6a18dd58",
   "metadata": {},
   "outputs": [
    {
     "data": {
      "text/plain": [
       "119475"
      ]
     },
     "execution_count": 3,
     "metadata": {},
     "output_type": "execute_result"
    }
   ],
   "source": [
    "train_size"
   ]
  },
  {
   "cell_type": "code",
   "execution_count": null,
   "id": "4bc31f2c",
   "metadata": {},
   "outputs": [],
   "source": []
  }
 ],
 "metadata": {
  "kernelspec": {
   "display_name": "llm",
   "language": "python",
   "name": "python3"
  },
  "language_info": {
   "codemirror_mode": {
    "name": "ipython",
    "version": 3
   },
   "file_extension": ".py",
   "mimetype": "text/x-python",
   "name": "python",
   "nbconvert_exporter": "python",
   "pygments_lexer": "ipython3",
   "version": "3.10.16"
  }
 },
 "nbformat": 4,
 "nbformat_minor": 5
}
